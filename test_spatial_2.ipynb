{
 "cells": [
  {
   "cell_type": "markdown",
   "metadata": {},
   "source": [
    "# Getting Soil Grid Data"
   ]
  },
  {
   "cell_type": "code",
   "execution_count": null,
   "metadata": {},
   "outputs": [],
   "source": [
    "import pandas as pd\n",
    "import requests\n",
    "import json\n",
    "import time\n",
    "import random\n",
    "import os\n",
    "import concurrent.futures\n",
    "from tqdm import tqdm\n",
    "import threading\n",
    "\n",
    "# Add a lock to prevent race conditions when saving data\n",
    "save_lock = threading.Lock()\n",
    "\n",
    "def get_soilgrids_point(lon, lat, point_idx, properties=None, max_retries=3):\n",
    "    \"\"\"Get SoilGrids data for a single point with correct field mapping\"\"\"\n",
    "    if properties is None:\n",
    "        properties = ['soc', 'clay', 'sand', 'silt', 'bdod', 'phh2o']\n",
    "        \n",
    "    url = \"https://rest.isric.org/soilgrids/v2.0/properties/query\"\n",
    "    params = {\n",
    "        'lon': lon,\n",
    "        'lat': lat,\n",
    "        'property': properties,\n",
    "        'depth': ['0-5cm', '5-15cm', '15-30cm'],\n",
    "        'value': ['mean']\n",
    "    }\n",
    "    \n",
    "    for retry in range(max_retries):\n",
    "        try:\n",
    "            response = requests.get(url, params=params)\n",
    "            \n",
    "            # Handle rate limiting\n",
    "            if response.status_code == 429:\n",
    "                wait_time = 15 + random.random() * 15\n",
    "                #print(f\"Rate limited for point {point_idx}, waiting {wait_time:.1f} seconds\")\n",
    "                time.sleep(wait_time)\n",
    "                continue\n",
    "                \n",
    "            if response.status_code == 200:\n",
    "                data = response.json()\n",
    "                \n",
    "                # Start with basic info\n",
    "                result = {'point_index': point_idx, 'lon': lon, 'lat': lat}\n",
    "                \n",
    "                # Extract data using the correct field structure\n",
    "                if 'properties' in data and 'layers' in data['properties']:\n",
    "                    for layer in data['properties']['layers']:\n",
    "                        # Get property name\n",
    "                        prop_name = layer.get('name', 'unknown')\n",
    "                        \n",
    "                        for depth in layer.get('depths', []):\n",
    "                            # Get depth label (which is the string format we need)\n",
    "                            depth_label = depth.get('label', 'unknown')\n",
    "                            \n",
    "                            # Clean the depth label for column naming\n",
    "                            clean_depth = depth_label.replace('-', '_to_')\n",
    "                            \n",
    "                            # Extract values\n",
    "                            for value_type, value in depth.get('values', {}).items():\n",
    "                                column_name = f\"{prop_name}_{clean_depth}_{value_type}\"\n",
    "                                result[column_name] = value\n",
    "                \n",
    "                # Debug print to verify data is being captured correctly\n",
    "                #print(f\"Retrieved data for point {point_idx}: {lon}, {lat}\")\n",
    "                return result\n",
    "            else:\n",
    "                #print(f\"Error for point {point_idx}: Status code {response.status_code}\")\n",
    "                if retry < max_retries - 1:\n",
    "                    wait_time = 10 * (retry + 1)\n",
    "                    #print(f\"Retrying in {wait_time} seconds...\")\n",
    "                    time.sleep(wait_time)\n",
    "                else:\n",
    "                    return {'point_index': point_idx, 'lon': lon, 'lat': lat, \n",
    "                            'error': f\"Status {response.status_code}\"}\n",
    "        \n",
    "        except Exception as e:\n",
    "            #print(f\"Exception for point {point_idx}: {str(e)}\")\n",
    "            if retry < max_retries - 1:\n",
    "                wait_time = 10 * (retry + 1)\n",
    "                #print(f\"Retrying in {wait_time} seconds...\")\n",
    "                time.sleep(wait_time)\n",
    "            else:\n",
    "                return {'point_index': point_idx, 'lon': lon, 'lat': lat, \n",
    "                        'error': f\"Exception: {str(e)}\"}\n",
    "    \n",
    "    return {'point_index': point_idx, 'lon': lon, 'lat': lat, \n",
    "            'error': \"Max retries reached\"}\n",
    "\n",
    "def process_point(args):\n",
    "    \"\"\"Wrapper function for concurrent processing\"\"\"\n",
    "    lon, lat, idx, properties = args\n",
    "    # Add jitter to avoid all workers hitting the API simultaneously\n",
    "    time.sleep(random.random() * 2)\n",
    "    return get_soilgrids_point(lon, lat, idx, properties)\n",
    "\n",
    "def save_checkpoint(results, filename, verbose=True):\n",
    "    \"\"\"Save results to a checkpoint file using a lock to prevent race conditions\"\"\"\n",
    "    with save_lock:\n",
    "        try:\n",
    "            df_results = pd.DataFrame(results)\n",
    "            # First write to a temporary file, then rename to avoid partial writes\n",
    "            temp_file = f\"{filename}.temp\"\n",
    "            df_results.to_csv(temp_file, index=False)\n",
    "            os.replace(temp_file, filename)\n",
    "            if verbose:\n",
    "                print(f\"Saved checkpoint with {len(results)} points to {filename}\")\n",
    "        except Exception as e:\n",
    "            print(f\"Error saving checkpoint: {str(e)}\")\n",
    "\n",
    "def get_soilgrids_parallel(coordinates_df, num_workers=4, lon_col='GPS_LONG', lat_col='GPS_LAT', \n",
    "                           properties=None, cache_file='soilgrids_parallel.csv',\n",
    "                           checkpoint_interval=10, debug=True):\n",
    "    \"\"\"\n",
    "    Retrieve soil data for multiple points in parallel using multiple workers\n",
    "    \n",
    "    Args:\n",
    "        coordinates_df: DataFrame with coordinates\n",
    "        num_workers: Number of parallel workers (default: 4)\n",
    "        lon_col: Column name for longitude\n",
    "        lat_col: Column name for latitude\n",
    "        properties: List of SoilGrids properties to retrieve\n",
    "        cache_file: Output file name\n",
    "        checkpoint_interval: Save intermediate results every N points\n",
    "        debug: Enable additional debug output\n",
    "    \"\"\"\n",
    "    if properties is None:\n",
    "        properties = ['soc', 'clay', 'sand', 'silt', 'bdod', 'phh2o']\n",
    "    \n",
    "    # Print the input data to verify it's correct\n",
    "    if debug:\n",
    "        print(\"Input coordinate data sample:\")\n",
    "        print(coordinates_df.head())\n",
    "        print(f\"Longitude column: {lon_col}, Latitude column: {lat_col}\")\n",
    "    \n",
    "    # Check for existing cache to resume from\n",
    "    results = []\n",
    "    \n",
    "    if os.path.exists(cache_file):\n",
    "        try:\n",
    "            existing_df = pd.read_csv(cache_file)\n",
    "            if len(existing_df) > 0:\n",
    "                results = existing_df.to_dict('records')\n",
    "                processed_indices = set(existing_df['point_index'].unique())\n",
    "                print(f\"Found {len(processed_indices)} already processed points in {cache_file}\")\n",
    "                coordinates_df = coordinates_df[~coordinates_df.index.isin(processed_indices)]\n",
    "                print(f\"Remaining points to process: {len(coordinates_df)}\")\n",
    "        except Exception as e:\n",
    "            print(f\"Error reading existing cache: {str(e)}. Starting from scratch.\")\n",
    "    \n",
    "    if len(coordinates_df) == 0:\n",
    "        print(\"All points already processed!\")\n",
    "        return pd.DataFrame(results)\n",
    "    \n",
    "    # Prepare arguments for parallel processing\n",
    "    args_list = []\n",
    "    for idx, row in coordinates_df.iterrows():\n",
    "        # Verify and clean coordinate values\n",
    "        try:\n",
    "            lon = float(row[lon_col])\n",
    "            lat = float(row[lat_col])\n",
    "            args_list.append((lon, lat, idx, properties))\n",
    "            if debug and len(args_list) <= 5:\n",
    "                print(f\"Prepared point {idx}: lon={lon}, lat={lat}\")\n",
    "        except (ValueError, TypeError) as e:\n",
    "            print(f\"Error with coordinates at index {idx}: {e}\")\n",
    "            print(f\"Row data: {row}\")\n",
    "    \n",
    "    print(f\"Processing {len(args_list)} points with {num_workers} workers\")\n",
    "    \n",
    "    completed_count = 0\n",
    "    \n",
    "    # Use ThreadPoolExecutor for parallel HTTP requests\n",
    "    with concurrent.futures.ThreadPoolExecutor(max_workers=num_workers) as executor:\n",
    "        # Submit all tasks\n",
    "        future_to_args = {executor.submit(process_point, args): args for args in args_list}\n",
    "        \n",
    "        # Use tqdm for a progress bar\n",
    "        for future in tqdm(concurrent.futures.as_completed(future_to_args), total=len(args_list)):\n",
    "            args = future_to_args[future]\n",
    "            point_idx = args[2]\n",
    "            \n",
    "            try:\n",
    "                result = future.result()\n",
    "                if result:\n",
    "                    results.append(result)\n",
    "                    completed_count += 1\n",
    "                    \n",
    "                    # Save intermediate results periodically\n",
    "                    if completed_count % checkpoint_interval == 0:\n",
    "                        save_checkpoint(results, cache_file)\n",
    "                \n",
    "            except Exception as e:\n",
    "                print(f\"\\nError processing point {point_idx}: {str(e)}\")\n",
    "    \n",
    "    # Save final results\n",
    "    save_checkpoint(results, cache_file, verbose=False)\n",
    "    \n",
    "    # Verify the final output\n",
    "    try:\n",
    "        final_df = pd.read_csv(cache_file)\n",
    "        print(f\"Final output has {len(final_df)} rows and {len(final_df.columns)} columns\")\n",
    "        print(\"Column names:\", final_df.columns.tolist())\n",
    "        print(\"First few rows:\")\n",
    "        print(final_df.head())\n",
    "    except Exception as e:\n",
    "        print(f\"Error verifying final output: {str(e)}\")\n",
    "    \n",
    "    return pd.DataFrame(results)\n",
    "\n",
    "# Example usage:\n",
    "# df = pd.read_csv('coordinates.csv', index_col=0)  # Set the first column as index if that's your point_index\n",
    "# results = get_soilgrids_parallel(df, num_workers=4)"
   ]
  },
  {
   "cell_type": "code",
   "execution_count": null,
   "metadata": {},
   "outputs": [
    {
     "name": "stdout",
     "output_type": "stream",
     "text": [
      "Found 30 already processed points in soilgrids_parallel.csv\n",
      "Remaining points to process: 2777\n",
      "Processing 2777 points with 4 workers\n"
     ]
    },
    {
     "name": "stderr",
     "output_type": "stream",
     "text": [
      "  0%|          | 10/2777 [00:50<5:09:59,  6.72s/it]"
     ]
    },
    {
     "name": "stdout",
     "output_type": "stream",
     "text": [
      "Saved checkpoint with 40 points to soilgrids_parallel.csv\n"
     ]
    },
    {
     "name": "stderr",
     "output_type": "stream",
     "text": [
      "  1%|          | 20/2777 [01:04<56:41,  1.23s/it]  "
     ]
    },
    {
     "name": "stdout",
     "output_type": "stream",
     "text": [
      "Saved checkpoint with 50 points to soilgrids_parallel.csv\n"
     ]
    },
    {
     "name": "stderr",
     "output_type": "stream",
     "text": [
      "  1%|          | 30/2777 [01:13<37:26,  1.22it/s]  "
     ]
    },
    {
     "name": "stdout",
     "output_type": "stream",
     "text": [
      "Saved checkpoint with 60 points to soilgrids_parallel.csv\n"
     ]
    },
    {
     "name": "stderr",
     "output_type": "stream",
     "text": [
      "  1%|▏         | 40/2777 [02:15<2:35:14,  3.40s/it]"
     ]
    },
    {
     "name": "stdout",
     "output_type": "stream",
     "text": [
      "Saved checkpoint with 70 points to soilgrids_parallel.csv\n"
     ]
    },
    {
     "name": "stderr",
     "output_type": "stream",
     "text": [
      "  2%|▏         | 50/2777 [02:28<1:05:40,  1.45s/it]"
     ]
    },
    {
     "name": "stdout",
     "output_type": "stream",
     "text": [
      "Saved checkpoint with 80 points to soilgrids_parallel.csv\n"
     ]
    },
    {
     "name": "stderr",
     "output_type": "stream",
     "text": [
      "  2%|▏         | 60/2777 [03:01<2:21:07,  3.12s/it]"
     ]
    },
    {
     "name": "stdout",
     "output_type": "stream",
     "text": [
      "Saved checkpoint with 90 points to soilgrids_parallel.csv\n"
     ]
    },
    {
     "name": "stderr",
     "output_type": "stream",
     "text": [
      "  3%|▎         | 70/2777 [03:20<1:15:20,  1.67s/it]"
     ]
    },
    {
     "name": "stdout",
     "output_type": "stream",
     "text": [
      "Saved checkpoint with 100 points to soilgrids_parallel.csv\n"
     ]
    },
    {
     "name": "stderr",
     "output_type": "stream",
     "text": [
      "  3%|▎         | 79/2777 [03:29<49:23,  1.10s/it]  "
     ]
    },
    {
     "name": "stdout",
     "output_type": "stream",
     "text": [
      "Saved checkpoint with 110 points to soilgrids_parallel.csv\n"
     ]
    },
    {
     "name": "stderr",
     "output_type": "stream",
     "text": [
      "  3%|▎         | 91/2777 [04:05<1:03:29,  1.42s/it]"
     ]
    },
    {
     "name": "stdout",
     "output_type": "stream",
     "text": [
      "Saved checkpoint with 120 points to soilgrids_parallel.csv\n"
     ]
    },
    {
     "name": "stderr",
     "output_type": "stream",
     "text": [
      "  4%|▎         | 100/2777 [04:34<1:31:36,  2.05s/it]"
     ]
    },
    {
     "name": "stdout",
     "output_type": "stream",
     "text": [
      "Saved checkpoint with 130 points to soilgrids_parallel.csv\n"
     ]
    },
    {
     "name": "stderr",
     "output_type": "stream",
     "text": [
      "  4%|▍         | 110/2777 [04:59<3:54:43,  5.28s/it]"
     ]
    },
    {
     "name": "stdout",
     "output_type": "stream",
     "text": [
      "Saved checkpoint with 140 points to soilgrids_parallel.csv\n"
     ]
    },
    {
     "name": "stderr",
     "output_type": "stream",
     "text": [
      "  4%|▍         | 120/2777 [05:15<1:22:47,  1.87s/it]"
     ]
    },
    {
     "name": "stdout",
     "output_type": "stream",
     "text": [
      "Saved checkpoint with 150 points to soilgrids_parallel.csv\n"
     ]
    },
    {
     "name": "stderr",
     "output_type": "stream",
     "text": [
      "  5%|▍         | 130/2777 [05:45<54:45,  1.24s/it]  "
     ]
    },
    {
     "name": "stdout",
     "output_type": "stream",
     "text": [
      "Saved checkpoint with 160 points to soilgrids_parallel.csv\n"
     ]
    },
    {
     "name": "stderr",
     "output_type": "stream",
     "text": [
      "  5%|▌         | 140/2777 [06:16<3:12:27,  4.38s/it]"
     ]
    },
    {
     "name": "stdout",
     "output_type": "stream",
     "text": [
      "Saved checkpoint with 170 points to soilgrids_parallel.csv\n"
     ]
    },
    {
     "name": "stderr",
     "output_type": "stream",
     "text": [
      "  5%|▌         | 150/2777 [06:46<1:19:39,  1.82s/it]"
     ]
    },
    {
     "name": "stdout",
     "output_type": "stream",
     "text": [
      "Saved checkpoint with 180 points to soilgrids_parallel.csv\n"
     ]
    },
    {
     "name": "stderr",
     "output_type": "stream",
     "text": [
      "  6%|▌         | 160/2777 [06:56<53:31,  1.23s/it]  "
     ]
    },
    {
     "name": "stdout",
     "output_type": "stream",
     "text": [
      "Saved checkpoint with 190 points to soilgrids_parallel.csv\n"
     ]
    },
    {
     "name": "stderr",
     "output_type": "stream",
     "text": [
      "  6%|▌         | 170/2777 [07:52<1:56:46,  2.69s/it]"
     ]
    },
    {
     "name": "stdout",
     "output_type": "stream",
     "text": [
      "Saved checkpoint with 200 points to soilgrids_parallel.csv\n"
     ]
    },
    {
     "name": "stderr",
     "output_type": "stream",
     "text": [
      "  6%|▋         | 180/2777 [08:02<32:22,  1.34it/s]  "
     ]
    },
    {
     "name": "stdout",
     "output_type": "stream",
     "text": [
      "Saved checkpoint with 210 points to soilgrids_parallel.csv\n"
     ]
    },
    {
     "name": "stderr",
     "output_type": "stream",
     "text": [
      "  7%|▋         | 190/2777 [08:46<5:39:19,  7.87s/it]"
     ]
    },
    {
     "name": "stdout",
     "output_type": "stream",
     "text": [
      "Saved checkpoint with 220 points to soilgrids_parallel.csv\n"
     ]
    },
    {
     "name": "stderr",
     "output_type": "stream",
     "text": [
      "  7%|▋         | 200/2777 [08:58<46:12,  1.08s/it]  "
     ]
    },
    {
     "name": "stdout",
     "output_type": "stream",
     "text": [
      "Saved checkpoint with 230 points to soilgrids_parallel.csv\n"
     ]
    },
    {
     "name": "stderr",
     "output_type": "stream",
     "text": [
      "  8%|▊         | 210/2777 [09:17<1:45:14,  2.46s/it]"
     ]
    },
    {
     "name": "stdout",
     "output_type": "stream",
     "text": [
      "Saved checkpoint with 240 points to soilgrids_parallel.csv\n"
     ]
    },
    {
     "name": "stderr",
     "output_type": "stream",
     "text": [
      "  8%|▊         | 220/2777 [10:02<3:17:58,  4.65s/it]"
     ]
    },
    {
     "name": "stdout",
     "output_type": "stream",
     "text": [
      "Saved checkpoint with 250 points to soilgrids_parallel.csv\n"
     ]
    },
    {
     "name": "stderr",
     "output_type": "stream",
     "text": [
      "  8%|▊         | 230/2777 [10:33<2:30:56,  3.56s/it]"
     ]
    },
    {
     "name": "stdout",
     "output_type": "stream",
     "text": [
      "Saved checkpoint with 260 points to soilgrids_parallel.csv\n"
     ]
    },
    {
     "name": "stderr",
     "output_type": "stream",
     "text": [
      "  9%|▊         | 240/2777 [11:05<1:22:47,  1.96s/it]"
     ]
    },
    {
     "name": "stdout",
     "output_type": "stream",
     "text": [
      "Saved checkpoint with 270 points to soilgrids_parallel.csv\n"
     ]
    },
    {
     "name": "stderr",
     "output_type": "stream",
     "text": [
      "  9%|▉         | 250/2777 [11:50<5:38:05,  8.03s/it]"
     ]
    },
    {
     "name": "stdout",
     "output_type": "stream",
     "text": [
      "Saved checkpoint with 280 points to soilgrids_parallel.csv\n"
     ]
    },
    {
     "name": "stderr",
     "output_type": "stream",
     "text": [
      "  9%|▉         | 260/2777 [12:21<58:23,  1.39s/it]  "
     ]
    },
    {
     "name": "stdout",
     "output_type": "stream",
     "text": [
      "Saved checkpoint with 290 points to soilgrids_parallel.csv\n"
     ]
    },
    {
     "name": "stderr",
     "output_type": "stream",
     "text": [
      " 10%|▉         | 269/2777 [12:28<37:41,  1.11it/s]"
     ]
    },
    {
     "name": "stdout",
     "output_type": "stream",
     "text": [
      "Saved checkpoint with 300 points to soilgrids_parallel.csv\n"
     ]
    },
    {
     "name": "stderr",
     "output_type": "stream",
     "text": [
      " 10%|█         | 280/2777 [13:27<5:59:57,  8.65s/it]"
     ]
    },
    {
     "name": "stdout",
     "output_type": "stream",
     "text": [
      "Saved checkpoint with 310 points to soilgrids_parallel.csv\n"
     ]
    },
    {
     "name": "stderr",
     "output_type": "stream",
     "text": [
      " 10%|█         | 290/2777 [13:36<43:54,  1.06s/it]  "
     ]
    },
    {
     "name": "stdout",
     "output_type": "stream",
     "text": [
      "Saved checkpoint with 320 points to soilgrids_parallel.csv\n"
     ]
    },
    {
     "name": "stderr",
     "output_type": "stream",
     "text": [
      " 11%|█         | 300/2777 [13:44<28:31,  1.45it/s]"
     ]
    },
    {
     "name": "stdout",
     "output_type": "stream",
     "text": [
      "Saved checkpoint with 330 points to soilgrids_parallel.csv\n"
     ]
    },
    {
     "name": "stderr",
     "output_type": "stream",
     "text": [
      " 11%|█         | 310/2777 [14:31<3:38:09,  5.31s/it]"
     ]
    },
    {
     "name": "stdout",
     "output_type": "stream",
     "text": [
      "Saved checkpoint with 340 points to soilgrids_parallel.csv\n"
     ]
    },
    {
     "name": "stderr",
     "output_type": "stream",
     "text": [
      " 12%|█▏        | 320/2777 [14:47<55:29,  1.36s/it]  "
     ]
    },
    {
     "name": "stdout",
     "output_type": "stream",
     "text": [
      "Saved checkpoint with 350 points to soilgrids_parallel.csv\n"
     ]
    },
    {
     "name": "stderr",
     "output_type": "stream",
     "text": [
      " 12%|█▏        | 330/2777 [15:11<1:34:40,  2.32s/it]"
     ]
    },
    {
     "name": "stdout",
     "output_type": "stream",
     "text": [
      "Saved checkpoint with 360 points to soilgrids_parallel.csv\n"
     ]
    },
    {
     "name": "stderr",
     "output_type": "stream",
     "text": [
      " 12%|█▏        | 340/2777 [15:46<59:17,  1.46s/it]  "
     ]
    },
    {
     "name": "stdout",
     "output_type": "stream",
     "text": [
      "Saved checkpoint with 370 points to soilgrids_parallel.csv\n"
     ]
    },
    {
     "name": "stderr",
     "output_type": "stream",
     "text": [
      " 13%|█▎        | 350/2777 [16:41<6:28:18,  9.60s/it]"
     ]
    },
    {
     "name": "stdout",
     "output_type": "stream",
     "text": [
      "Saved checkpoint with 380 points to soilgrids_parallel.csv\n"
     ]
    },
    {
     "name": "stderr",
     "output_type": "stream",
     "text": [
      " 13%|█▎        | 360/2777 [16:48<37:06,  1.09it/s]  "
     ]
    },
    {
     "name": "stdout",
     "output_type": "stream",
     "text": [
      "Saved checkpoint with 390 points to soilgrids_parallel.csv\n"
     ]
    },
    {
     "name": "stderr",
     "output_type": "stream",
     "text": [
      " 13%|█▎        | 370/2777 [17:53<4:13:05,  6.31s/it]"
     ]
    },
    {
     "name": "stdout",
     "output_type": "stream",
     "text": [
      "Saved checkpoint with 400 points to soilgrids_parallel.csv\n"
     ]
    },
    {
     "name": "stderr",
     "output_type": "stream",
     "text": [
      " 14%|█▎        | 380/2777 [17:59<31:03,  1.29it/s]  "
     ]
    },
    {
     "name": "stdout",
     "output_type": "stream",
     "text": [
      "Saved checkpoint with 410 points to soilgrids_parallel.csv\n"
     ]
    },
    {
     "name": "stderr",
     "output_type": "stream",
     "text": [
      " 14%|█▍        | 390/2777 [18:07<46:47,  1.18s/it]"
     ]
    },
    {
     "name": "stdout",
     "output_type": "stream",
     "text": [
      "Saved checkpoint with 420 points to soilgrids_parallel.csv\n"
     ]
    },
    {
     "name": "stderr",
     "output_type": "stream",
     "text": [
      " 14%|█▍        | 400/2777 [19:01<2:25:34,  3.67s/it]"
     ]
    },
    {
     "name": "stdout",
     "output_type": "stream",
     "text": [
      "Saved checkpoint with 430 points to soilgrids_parallel.csv\n"
     ]
    },
    {
     "name": "stderr",
     "output_type": "stream",
     "text": [
      " 15%|█▍        | 410/2777 [19:11<45:56,  1.16s/it]  "
     ]
    },
    {
     "name": "stdout",
     "output_type": "stream",
     "text": [
      "Saved checkpoint with 440 points to soilgrids_parallel.csv\n"
     ]
    },
    {
     "name": "stderr",
     "output_type": "stream",
     "text": [
      " 15%|█▌        | 420/2777 [19:56<4:56:05,  7.54s/it]"
     ]
    },
    {
     "name": "stdout",
     "output_type": "stream",
     "text": [
      "Saved checkpoint with 450 points to soilgrids_parallel.csv\n"
     ]
    },
    {
     "name": "stderr",
     "output_type": "stream",
     "text": [
      " 15%|█▌        | 430/2777 [20:25<53:04,  1.36s/it]  "
     ]
    },
    {
     "name": "stdout",
     "output_type": "stream",
     "text": [
      "Saved checkpoint with 460 points to soilgrids_parallel.csv\n"
     ]
    },
    {
     "name": "stderr",
     "output_type": "stream",
     "text": [
      " 16%|█▌        | 440/2777 [21:20<3:32:53,  5.47s/it]"
     ]
    },
    {
     "name": "stdout",
     "output_type": "stream",
     "text": [
      "Saved checkpoint with 470 points to soilgrids_parallel.csv\n"
     ]
    },
    {
     "name": "stderr",
     "output_type": "stream",
     "text": [
      " 16%|█▌        | 450/2777 [21:28<30:27,  1.27it/s]  "
     ]
    },
    {
     "name": "stdout",
     "output_type": "stream",
     "text": [
      "Saved checkpoint with 480 points to soilgrids_parallel.csv\n"
     ]
    },
    {
     "name": "stderr",
     "output_type": "stream",
     "text": [
      " 17%|█▋        | 460/2777 [21:35<26:09,  1.48it/s]"
     ]
    },
    {
     "name": "stdout",
     "output_type": "stream",
     "text": [
      "Saved checkpoint with 490 points to soilgrids_parallel.csv\n"
     ]
    },
    {
     "name": "stderr",
     "output_type": "stream",
     "text": [
      " 17%|█▋        | 470/2777 [22:26<1:17:41,  2.02s/it]"
     ]
    },
    {
     "name": "stdout",
     "output_type": "stream",
     "text": [
      "Saved checkpoint with 500 points to soilgrids_parallel.csv\n"
     ]
    },
    {
     "name": "stderr",
     "output_type": "stream",
     "text": [
      " 17%|█▋        | 480/2777 [22:32<24:36,  1.56it/s]  "
     ]
    },
    {
     "name": "stdout",
     "output_type": "stream",
     "text": [
      "Saved checkpoint with 510 points to soilgrids_parallel.csv\n"
     ]
    },
    {
     "name": "stderr",
     "output_type": "stream",
     "text": [
      " 18%|█▊        | 490/2777 [23:33<1:22:41,  2.17s/it]"
     ]
    },
    {
     "name": "stdout",
     "output_type": "stream",
     "text": [
      "Saved checkpoint with 520 points to soilgrids_parallel.csv\n"
     ]
    },
    {
     "name": "stderr",
     "output_type": "stream",
     "text": [
      " 18%|█▊        | 500/2777 [23:39<23:17,  1.63it/s]  "
     ]
    },
    {
     "name": "stdout",
     "output_type": "stream",
     "text": [
      "Saved checkpoint with 530 points to soilgrids_parallel.csv\n"
     ]
    },
    {
     "name": "stderr",
     "output_type": "stream",
     "text": [
      " 18%|█▊        | 510/2777 [24:29<3:29:44,  5.55s/it]"
     ]
    },
    {
     "name": "stdout",
     "output_type": "stream",
     "text": [
      "Saved checkpoint with 540 points to soilgrids_parallel.csv\n"
     ]
    },
    {
     "name": "stderr",
     "output_type": "stream",
     "text": [
      " 19%|█▊        | 520/2777 [24:36<33:25,  1.13it/s]  "
     ]
    },
    {
     "name": "stdout",
     "output_type": "stream",
     "text": [
      "Saved checkpoint with 550 points to soilgrids_parallel.csv\n"
     ]
    },
    {
     "name": "stderr",
     "output_type": "stream",
     "text": [
      " 19%|█▉        | 530/2777 [25:39<6:09:57,  9.88s/it]"
     ]
    },
    {
     "name": "stdout",
     "output_type": "stream",
     "text": [
      "Saved checkpoint with 560 points to soilgrids_parallel.csv\n"
     ]
    },
    {
     "name": "stderr",
     "output_type": "stream",
     "text": [
      " 19%|█▉        | 539/2777 [25:54<1:02:10,  1.67s/it]"
     ]
    },
    {
     "name": "stdout",
     "output_type": "stream",
     "text": [
      "Saved checkpoint with 570 points to soilgrids_parallel.csv\n"
     ]
    },
    {
     "name": "stderr",
     "output_type": "stream",
     "text": [
      " 20%|█▉        | 550/2777 [26:47<7:04:21, 11.43s/it]"
     ]
    },
    {
     "name": "stdout",
     "output_type": "stream",
     "text": [
      "Saved checkpoint with 580 points to soilgrids_parallel.csv\n"
     ]
    },
    {
     "name": "stderr",
     "output_type": "stream",
     "text": [
      " 20%|██        | 560/2777 [27:00<54:47,  1.48s/it]  "
     ]
    },
    {
     "name": "stdout",
     "output_type": "stream",
     "text": [
      "Saved checkpoint with 590 points to soilgrids_parallel.csv\n"
     ]
    },
    {
     "name": "stderr",
     "output_type": "stream",
     "text": [
      " 21%|██        | 570/2777 [27:08<29:49,  1.23it/s]"
     ]
    },
    {
     "name": "stdout",
     "output_type": "stream",
     "text": [
      "Saved checkpoint with 600 points to soilgrids_parallel.csv\n"
     ]
    },
    {
     "name": "stderr",
     "output_type": "stream",
     "text": [
      " 21%|██        | 580/2777 [28:00<5:07:27,  8.40s/it]"
     ]
    },
    {
     "name": "stdout",
     "output_type": "stream",
     "text": [
      "Saved checkpoint with 610 points to soilgrids_parallel.csv\n"
     ]
    },
    {
     "name": "stderr",
     "output_type": "stream",
     "text": [
      " 21%|██        | 590/2777 [28:13<37:31,  1.03s/it]  "
     ]
    },
    {
     "name": "stdout",
     "output_type": "stream",
     "text": [
      "Saved checkpoint with 620 points to soilgrids_parallel.csv\n"
     ]
    },
    {
     "name": "stderr",
     "output_type": "stream",
     "text": [
      " 22%|██▏       | 600/2777 [28:28<55:15,  1.52s/it]  "
     ]
    },
    {
     "name": "stdout",
     "output_type": "stream",
     "text": [
      "Saved checkpoint with 630 points to soilgrids_parallel.csv\n"
     ]
    },
    {
     "name": "stderr",
     "output_type": "stream",
     "text": [
      " 22%|██▏       | 609/2777 [29:26<1:15:41,  2.09s/it]"
     ]
    },
    {
     "name": "stdout",
     "output_type": "stream",
     "text": [
      "Saved checkpoint with 640 points to soilgrids_parallel.csv\n"
     ]
    },
    {
     "name": "stderr",
     "output_type": "stream",
     "text": [
      " 22%|██▏       | 620/2777 [29:33<27:17,  1.32it/s]  "
     ]
    },
    {
     "name": "stdout",
     "output_type": "stream",
     "text": [
      "Saved checkpoint with 650 points to soilgrids_parallel.csv\n"
     ]
    },
    {
     "name": "stderr",
     "output_type": "stream",
     "text": [
      " 23%|██▎       | 627/2777 [30:28<1:44:29,  2.92s/it]\n"
     ]
    }
   ],
   "source": [
    "# Load your data\n",
    "target_raw = pd.read_csv('data/France_lab.csv')\n",
    "long_lat = target_raw[['GPS_LONG', 'GPS_LAT']]\n",
    "get_soilgrids_parallel(long_lat, num_workers=4, properties=['soc', 'clay', 'sand', 'silt', 'bdod', 'phh2o'], debug = False)"
   ]
  },
  {
   "cell_type": "code",
   "execution_count": null,
   "metadata": {},
   "outputs": [],
   "source": []
  }
 ],
 "metadata": {
  "kernelspec": {
   "display_name": "geo_311",
   "language": "python",
   "name": "python3"
  },
  "language_info": {
   "codemirror_mode": {
    "name": "ipython",
    "version": 3
   },
   "file_extension": ".py",
   "mimetype": "text/x-python",
   "name": "python",
   "nbconvert_exporter": "python",
   "pygments_lexer": "ipython3",
   "version": "3.11.11"
  }
 },
 "nbformat": 4,
 "nbformat_minor": 2
}
